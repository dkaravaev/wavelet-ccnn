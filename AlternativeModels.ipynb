{
  "nbformat": 4,
  "nbformat_minor": 0,
  "metadata": {
    "colab": {
      "name": "AlternativeModels.ipynb",
      "provenance": [],
      "authorship_tag": "ABX9TyPFegfqoHaTT2NJ9o04VOob",
      "include_colab_link": true
    },
    "kernelspec": {
      "name": "python3",
      "display_name": "Python 3"
    },
    "accelerator": "GPU"
  },
  "cells": [
    {
      "cell_type": "markdown",
      "metadata": {
        "id": "view-in-github",
        "colab_type": "text"
      },
      "source": [
        "<a href=\"https://colab.research.google.com/github/dkaravaev/wavelet-ccnn/blob/master/AlternativeModels.ipynb\" target=\"_parent\"><img src=\"https://colab.research.google.com/assets/colab-badge.svg\" alt=\"Open In Colab\"/></a>"
      ]
    },
    {
      "cell_type": "code",
      "metadata": {
        "id": "uIthbZJ6-0ZJ",
        "colab_type": "code",
        "colab": {
          "base_uri": "https://localhost:8080/",
          "height": 35
        },
        "outputId": "7f0e2643-45a9-4ac6-cc66-df289691c7d6"
      },
      "source": [
        "import scipy\n",
        "import sys\n",
        "\n",
        "import numpy as np\n",
        "import pandas as pd\n",
        "import tensorflow as tf\n",
        "import matplotlib.pyplot as plt\n",
        "\n",
        "from tensorflow.keras import models\n",
        "from tensorflow.keras import optimizers\n",
        "from tensorflow.keras import regularizers\n",
        "from tensorflow.keras import layers\n",
        "from tensorflow.keras import utils\n",
        "from tensorflow.keras import metrics\n",
        "from tensorflow.keras import activations\n",
        "\n",
        "from sklearn.model_selection import train_test_split\n",
        "\n",
        "from google.colab import drive\n",
        "\n",
        "drive.mount('/content/gdrive')\n",
        "path = '/content/gdrive/My Drive/python/'\n",
        "sys.path.append(path)\n",
        "\n",
        "from datasets.chaos   import *\n",
        "from datasets.chirp   import *\n",
        "from datasets.predict import *\n",
        "from datasets.utils   import *"
      ],
      "execution_count": 1,
      "outputs": [
        {
          "output_type": "stream",
          "text": [
            "Drive already mounted at /content/gdrive; to attempt to forcibly remount, call drive.mount(\"/content/gdrive\", force_remount=True).\n"
          ],
          "name": "stdout"
        }
      ]
    },
    {
      "cell_type": "code",
      "metadata": {
        "id": "mt4a4xug-6Yl",
        "colab_type": "code",
        "colab": {
          "base_uri": "https://localhost:8080/",
          "height": 35
        },
        "outputId": "7b2caf59-2aba-4e12-9809-2774662a818c"
      },
      "source": [
        "device_name = tf.test.gpu_device_name()\n",
        "if device_name != '/device:GPU:0':\n",
        "  raise SystemError('GPU device not found')\n",
        "print('Found GPU at: {}'.format(device_name))"
      ],
      "execution_count": 2,
      "outputs": [
        {
          "output_type": "stream",
          "text": [
            "Found GPU at: /device:GPU:0\n"
          ],
          "name": "stdout"
        }
      ]
    },
    {
      "cell_type": "code",
      "metadata": {
        "id": "XKs74xct_L2E",
        "colab_type": "code",
        "colab": {}
      },
      "source": [
        "N = 1024\n",
        "\n",
        "def ConvLSTM(kernel_size, filters):\n",
        "  model = models.Sequential()\n",
        "  model.add(layers.Conv1D(filters,\n",
        "                  kernel_size,\n",
        "                  padding='causal',\n",
        "                  strides=1,\n",
        "                  kernel_regularizer='l2',\n",
        "                  input_shape=(N, 2)))\n",
        "  model.add(layers.BatchNormalization())\n",
        "  model.add(layers.ELU())\n",
        "  model.add(layers.Conv1D(filters,\n",
        "                  kernel_size,\n",
        "                  padding='causal',\n",
        "                  strides=1,\n",
        "                  kernel_regularizer='l2'))\n",
        "  model.add(layers.BatchNormalization())\n",
        "  model.add(layers.ELU())\n",
        "  model.add(layers.LSTM(2, return_sequences = True, kernel_regularizer='l2'))\n",
        "\n",
        "  model.compile(loss='mse', optimizer='adam', metrics=['mse'])\n",
        "  \n",
        "  return model\n",
        "\n",
        "def FullyConv(kernel_size, filters, depth):\n",
        "  model = models.Sequential()\n",
        "  model.add(layers.Conv1D(filters,\n",
        "                  kernel_size,\n",
        "                  padding='causal',\n",
        "                  strides=1,\n",
        "                  kernel_regularizer='l2',\n",
        "                  input_shape=(N, 2)))\n",
        "  model.add(layers.BatchNormalization())\n",
        "  model.add(layers.ELU())\n",
        "  \n",
        "  for i in range(depth - 1):\n",
        "    model.add(layers.Conv1D(filters,\n",
        "                    kernel_size,\n",
        "                    padding='causal',\n",
        "                    strides=1,\n",
        "                    kernel_regularizer='l2',\n",
        "                    dilation_rate=2,\n",
        "                    input_shape=(N, 2)))\n",
        "    model.add(layers.BatchNormalization())\n",
        "    model.add(layers.ELU())\n",
        "    \n",
        "  model.add(layers.Conv1D(1, 1, kernel_regularizer='l2'))\n",
        "\n",
        "  model.compile(loss='mse', optimizer='adam', metrics=['mse'])\n",
        "  \n",
        "  return model\n",
        "\n",
        "kernel_size = 4\n",
        "filters = 32\n",
        "\n",
        "batch_size = 100\n",
        "epochs = 15"
      ],
      "execution_count": 0,
      "outputs": []
    },
    {
      "cell_type": "code",
      "metadata": {
        "id": "JkkJxVJj_x-q",
        "colab_type": "code",
        "colab": {}
      },
      "source": [
        "dataset = IkedaMap(40000 + N, N, z0=0.5 + 0 * 1j, A=1, \n",
        "                   B=0.9, K=-6, C=0.4, SNRdB=-1)\n",
        "X, y = dataset.generate()\n",
        "\n",
        "X_train, X_test, y_train, y_test = train_test_split(\n",
        "    X, y, test_size=0.08, shuffle=False)"
      ],
      "execution_count": 0,
      "outputs": []
    },
    {
      "cell_type": "code",
      "metadata": {
        "id": "WLbKJDN9ATU1",
        "colab_type": "code",
        "colab": {
          "base_uri": "https://localhost:8080/",
          "height": 553
        },
        "outputId": "834a6b58-a745-4a21-f150-85e32308e209"
      },
      "source": [
        "conv_lstm = ConvLSTM(kernel_size, filters)\n",
        "conv_lstm_history = conv_lstm.fit(X_train, y_train,\n",
        "                                  batch_size=batch_size,\n",
        "                                  epochs=epochs,\n",
        "                                  validation_data=(X_test, y_test))"
      ],
      "execution_count": 5,
      "outputs": [
        {
          "output_type": "stream",
          "text": [
            "Epoch 1/15\n",
            "378/378 [==============================] - 48s 128ms/step - loss: 0.3283 - mse: 0.1454 - val_loss: 0.3407 - val_mse: 0.2980\n",
            "Epoch 2/15\n",
            "378/378 [==============================] - 43s 114ms/step - loss: 0.1163 - mse: 0.0892 - val_loss: 0.1301 - val_mse: 0.1103\n",
            "Epoch 3/15\n",
            "378/378 [==============================] - 43s 114ms/step - loss: 0.1041 - mse: 0.0868 - val_loss: 0.1110 - val_mse: 0.0955\n",
            "Epoch 4/15\n",
            "378/378 [==============================] - 43s 114ms/step - loss: 0.1000 - mse: 0.0856 - val_loss: 0.1066 - val_mse: 0.0932\n",
            "Epoch 5/15\n",
            "378/378 [==============================] - 43s 113ms/step - loss: 0.0974 - mse: 0.0848 - val_loss: 0.1041 - val_mse: 0.0922\n",
            "Epoch 6/15\n",
            "378/378 [==============================] - 42s 112ms/step - loss: 0.0954 - mse: 0.0842 - val_loss: 0.1028 - val_mse: 0.0921\n",
            "Epoch 7/15\n",
            "378/378 [==============================] - 42s 112ms/step - loss: 0.0938 - mse: 0.0837 - val_loss: 0.1013 - val_mse: 0.0917\n",
            "Epoch 8/15\n",
            "378/378 [==============================] - 42s 112ms/step - loss: 0.0924 - mse: 0.0833 - val_loss: 0.0991 - val_mse: 0.0903\n",
            "Epoch 9/15\n",
            "378/378 [==============================] - 43s 113ms/step - loss: 0.0913 - mse: 0.0830 - val_loss: 0.0987 - val_mse: 0.0907\n",
            "Epoch 10/15\n",
            "378/378 [==============================] - 42s 112ms/step - loss: 0.0903 - mse: 0.0827 - val_loss: 0.0974 - val_mse: 0.0901\n",
            "Epoch 11/15\n",
            "378/378 [==============================] - 42s 112ms/step - loss: 0.0895 - mse: 0.0824 - val_loss: 0.0964 - val_mse: 0.0896\n",
            "Epoch 12/15\n",
            "378/378 [==============================] - 42s 112ms/step - loss: 0.0887 - mse: 0.0822 - val_loss: 0.0957 - val_mse: 0.0894\n",
            "Epoch 13/15\n",
            "378/378 [==============================] - 42s 112ms/step - loss: 0.0880 - mse: 0.0820 - val_loss: 0.0950 - val_mse: 0.0891\n",
            "Epoch 14/15\n",
            "378/378 [==============================] - 42s 112ms/step - loss: 0.0875 - mse: 0.0818 - val_loss: 0.0948 - val_mse: 0.0893\n",
            "Epoch 15/15\n",
            "378/378 [==============================] - 42s 112ms/step - loss: 0.0869 - mse: 0.0817 - val_loss: 0.0946 - val_mse: 0.0894\n"
          ],
          "name": "stdout"
        }
      ]
    },
    {
      "cell_type": "code",
      "metadata": {
        "id": "ip8Ffx73AesN",
        "colab_type": "code",
        "colab": {
          "base_uri": "https://localhost:8080/",
          "height": 553
        },
        "outputId": "e0d536c3-487f-4e4c-9c67-f8b6bde2f697"
      },
      "source": [
        "full_conv = FullyConv(kernel_size, filters, depth=8)\n",
        "full_conv_history = full_conv.fit(X_train, y_train,\n",
        "                                  batch_size=batch_size,\n",
        "                                  epochs=epochs,\n",
        "                                  validation_data=(X_test, y_test))"
      ],
      "execution_count": 6,
      "outputs": [
        {
          "output_type": "stream",
          "text": [
            "Epoch 1/15\n",
            "378/378 [==============================] - 31s 81ms/step - loss: 1.3916 - mse: 0.5525 - val_loss: 0.8162 - val_mse: 0.6968\n",
            "Epoch 2/15\n",
            "378/378 [==============================] - 30s 79ms/step - loss: 0.5217 - mse: 0.4783 - val_loss: 0.6282 - val_mse: 0.6144\n",
            "Epoch 3/15\n",
            "378/378 [==============================] - 30s 80ms/step - loss: 0.4854 - mse: 0.4769 - val_loss: 0.5709 - val_mse: 0.5655\n",
            "Epoch 4/15\n",
            "378/378 [==============================] - 30s 79ms/step - loss: 0.4814 - mse: 0.4766 - val_loss: 0.5544 - val_mse: 0.5510\n",
            "Epoch 5/15\n",
            "378/378 [==============================] - 30s 80ms/step - loss: 0.4784 - mse: 0.4759 - val_loss: 0.5237 - val_mse: 0.5217\n",
            "Epoch 6/15\n",
            "378/378 [==============================] - 30s 80ms/step - loss: 0.4771 - mse: 0.4755 - val_loss: 0.5026 - val_mse: 0.5011\n",
            "Epoch 7/15\n",
            "378/378 [==============================] - 30s 80ms/step - loss: 0.4768 - mse: 0.4755 - val_loss: 0.5000 - val_mse: 0.4987\n",
            "Epoch 8/15\n",
            "378/378 [==============================] - 30s 80ms/step - loss: 0.5040 - mse: 0.4854 - val_loss: 0.6218 - val_mse: 0.6161\n",
            "Epoch 9/15\n",
            "378/378 [==============================] - 30s 79ms/step - loss: 0.4797 - mse: 0.4763 - val_loss: 0.6060 - val_mse: 0.6039\n",
            "Epoch 10/15\n",
            "378/378 [==============================] - 30s 80ms/step - loss: 0.4774 - mse: 0.4757 - val_loss: 0.5175 - val_mse: 0.5160\n",
            "Epoch 11/15\n",
            "378/378 [==============================] - 30s 80ms/step - loss: 0.4768 - mse: 0.4755 - val_loss: 0.5014 - val_mse: 0.5001\n",
            "Epoch 12/15\n",
            "378/378 [==============================] - 30s 80ms/step - loss: 0.4766 - mse: 0.4754 - val_loss: 0.5024 - val_mse: 0.5012\n",
            "Epoch 13/15\n",
            "378/378 [==============================] - 30s 80ms/step - loss: 0.4992 - mse: 0.4860 - val_loss: 0.6090 - val_mse: 0.6048\n",
            "Epoch 14/15\n",
            "378/378 [==============================] - 30s 80ms/step - loss: 0.4781 - mse: 0.4755 - val_loss: 0.5648 - val_mse: 0.5630\n",
            "Epoch 15/15\n",
            "378/378 [==============================] - 30s 80ms/step - loss: 0.4768 - mse: 0.4754 - val_loss: 0.5135 - val_mse: 0.5122\n"
          ],
          "name": "stdout"
        }
      ]
    },
    {
      "cell_type": "code",
      "metadata": {
        "id": "hV7eWtzfDju6",
        "colab_type": "code",
        "colab": {
          "base_uri": "https://localhost:8080/",
          "height": 621
        },
        "outputId": "b41bc792-53bc-45fe-ec3f-cb04278a079e"
      },
      "source": [
        "plt.figure(figsize=(15, 10))\n",
        "plt.plot(conv_lstm_history.history['val_loss'], marker='o', label='CNN + LSTM')\n",
        "plt.plot(full_conv_history.history['val_loss'], marker='o', label='Fully CNN')\n",
        "plt.legend()\n",
        "plt.grid(True)\n",
        "plt.yscale('log')\n",
        "plt.ylabel('MSE')\n",
        "plt.xlabel('Epoch #')\n",
        "plt.title('Values of MSE on test set of alternative models')\n",
        "plt.show()"
      ],
      "execution_count": 7,
      "outputs": [
        {
          "output_type": "display_data",
          "data": {
            "image/png": "[encoded data removed]",
            "text/plain": [
              "<Figure size 1080x720 with 1 Axes>"
            ]
          },
          "metadata": {
            "tags": [],
            "needs_background": "light"
          }
        }
      ]
    },
    {
      "cell_type": "code",
      "metadata": {
        "id": "3i5hl_P8GWZY",
        "colab_type": "code",
        "colab": {
          "base_uri": "https://localhost:8080/",
          "height": 410
        },
        "outputId": "768fc955-4789-4405-bb61-4178fcae96c2"
      },
      "source": [
        "conv_lstm.summary()"
      ],
      "execution_count": 8,
      "outputs": [
        {
          "output_type": "stream",
          "text": [
            "Model: \"sequential\"\n",
            "_________________________________________________________________\n",
            "Layer (type)                 Output Shape              Param #   \n",
            "=================================================================\n",
            "conv1d (Conv1D)              (None, 1024, 32)          288       \n",
            "_________________________________________________________________\n",
            "batch_normalization (BatchNo (None, 1024, 32)          128       \n",
            "_________________________________________________________________\n",
            "elu (ELU)                    (None, 1024, 32)          0         \n",
            "_________________________________________________________________\n",
            "conv1d_1 (Conv1D)            (None, 1024, 32)          4128      \n",
            "_________________________________________________________________\n",
            "batch_normalization_1 (Batch (None, 1024, 32)          128       \n",
            "_________________________________________________________________\n",
            "elu_1 (ELU)                  (None, 1024, 32)          0         \n",
            "_________________________________________________________________\n",
            "lstm (LSTM)                  (None, 1024, 2)           280       \n",
            "=================================================================\n",
            "Total params: 4,952\n",
            "Trainable params: 4,824\n",
            "Non-trainable params: 128\n",
            "_________________________________________________________________\n"
          ],
          "name": "stdout"
        }
      ]
    },
    {
      "cell_type": "code",
      "metadata": {
        "id": "UdIJ0iQ-Hiqs",
        "colab_type": "code",
        "colab": {
          "base_uri": "https://localhost:8080/",
          "height": 1000
        },
        "outputId": "e6f84e3d-7fd2-430c-b6c0-e8c3757429cc"
      },
      "source": [
        "full_conv.summary()"
      ],
      "execution_count": 9,
      "outputs": [
        {
          "output_type": "stream",
          "text": [
            "Model: \"sequential_1\"\n",
            "_________________________________________________________________\n",
            "Layer (type)                 Output Shape              Param #   \n",
            "=================================================================\n",
            "conv1d_2 (Conv1D)            (None, 1024, 32)          288       \n",
            "_________________________________________________________________\n",
            "batch_normalization_2 (Batch (None, 1024, 32)          128       \n",
            "_________________________________________________________________\n",
            "elu_2 (ELU)                  (None, 1024, 32)          0         \n",
            "_________________________________________________________________\n",
            "conv1d_3 (Conv1D)            (None, 1024, 32)          4128      \n",
            "_________________________________________________________________\n",
            "batch_normalization_3 (Batch (None, 1024, 32)          128       \n",
            "_________________________________________________________________\n",
            "elu_3 (ELU)                  (None, 1024, 32)          0         \n",
            "_________________________________________________________________\n",
            "conv1d_4 (Conv1D)            (None, 1024, 32)          4128      \n",
            "_________________________________________________________________\n",
            "batch_normalization_4 (Batch (None, 1024, 32)          128       \n",
            "_________________________________________________________________\n",
            "elu_4 (ELU)                  (None, 1024, 32)          0         \n",
            "_________________________________________________________________\n",
            "conv1d_5 (Conv1D)            (None, 1024, 32)          4128      \n",
            "_________________________________________________________________\n",
            "batch_normalization_5 (Batch (None, 1024, 32)          128       \n",
            "_________________________________________________________________\n",
            "elu_5 (ELU)                  (None, 1024, 32)          0         \n",
            "_________________________________________________________________\n",
            "conv1d_6 (Conv1D)            (None, 1024, 32)          4128      \n",
            "_________________________________________________________________\n",
            "batch_normalization_6 (Batch (None, 1024, 32)          128       \n",
            "_________________________________________________________________\n",
            "elu_6 (ELU)                  (None, 1024, 32)          0         \n",
            "_________________________________________________________________\n",
            "conv1d_7 (Conv1D)            (None, 1024, 32)          4128      \n",
            "_________________________________________________________________\n",
            "batch_normalization_7 (Batch (None, 1024, 32)          128       \n",
            "_________________________________________________________________\n",
            "elu_7 (ELU)                  (None, 1024, 32)          0         \n",
            "_________________________________________________________________\n",
            "conv1d_8 (Conv1D)            (None, 1024, 32)          4128      \n",
            "_________________________________________________________________\n",
            "batch_normalization_8 (Batch (None, 1024, 32)          128       \n",
            "_________________________________________________________________\n",
            "elu_8 (ELU)                  (None, 1024, 32)          0         \n",
            "_________________________________________________________________\n",
            "conv1d_9 (Conv1D)            (None, 1024, 32)          4128      \n",
            "_________________________________________________________________\n",
            "batch_normalization_9 (Batch (None, 1024, 32)          128       \n",
            "_________________________________________________________________\n",
            "elu_9 (ELU)                  (None, 1024, 32)          0         \n",
            "_________________________________________________________________\n",
            "conv1d_10 (Conv1D)           (None, 1024, 1)           33        \n",
            "=================================================================\n",
            "Total params: 30,241\n",
            "Trainable params: 29,729\n",
            "Non-trainable params: 512\n",
            "_________________________________________________________________\n"
          ],
          "name": "stdout"
        }
      ]
    }
  ]
}